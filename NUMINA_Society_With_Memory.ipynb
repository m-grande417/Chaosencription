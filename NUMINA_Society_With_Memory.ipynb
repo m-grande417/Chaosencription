
# 🧠 NUMINA Society (Base + Fusion)

# === Placeholder: Phase 1–13 Code (Previously Inserted) ===

# This is where XOR logic, symbolic generation, agents, fusion, and deconstruction all run.

# 🔁 Outputs from Phase 13:
# Fusion: fire + earth → 'lava'
# Deconstructed A: [1.0, 0.0] | True A: [1.0, 0.0]
# Deconstructed B: [0.5, 0.5] | True B: [0.5, 0.5]



# 🧠 Phase 14: Episodic Vector Memory for NUMINA

import torch
import torch.nn.functional as F

class NUMINAMemory:
    def __init__(self):
        self.memory = []  # list of (concept_A, concept_B, fused, symbol)

    def store(self, concept_A, concept_B, fused, symbol_tensor):
        self.memory.append((concept_A, concept_B, fused, symbol_tensor))

    def recall(self, fused_query, top_k=1):
        if not self.memory:
            return None
        similarities = []
        for concept_A, concept_B, fused, symbol_tensor in self.memory:
            sim = F.cosine_similarity(fused_query, fused, dim=0)
            similarities.append((sim.item(), symbol_tensor, concept_A, concept_B))
        similarities.sort(reverse=True, key=lambda x: x[0])
        return similarities[:top_k]

# Example usage
numina_memory = NUMINAMemory()

# Store fused concepts
concepts = {
    "fire": torch.tensor([1.0, 0.0]),
    "water": torch.tensor([0.0, 1.0]),
    "earth": torch.tensor([0.5, 0.5])
}
def decohere(a, b): return torch.tanh((a + b)**2)

def decode_symbol(tensor):
    alphabet = list("abcdefghijklmnopqrstuvwxyz")
    return ''.join([alphabet[torch.argmax(c).item()] for c in tensor])

for (a, b) in [("fire", "earth"), ("water", "earth")]:
    va, vb = concepts[a], concepts[b]
    fused = decohere(va, vb)
    symbol = torch.rand(5, 26)  # Placeholder symbol
    numina_memory.store(va, vb, fused, symbol)

query = decohere(torch.tensor([1.0, 0.0]), torch.tensor([0.4, 0.4]))
results = numina_memory.recall(query)

print("\n🔎 Memory Recall Results:")
for sim, symbol, ca, cb in results:
    print(f"Similarity: {sim:.3f}, Retrieved Symbol: '{decode_symbol(symbol)}'")
    print(f"  ↳ From concepts: {ca.tolist()} + {cb.tolist()}")
