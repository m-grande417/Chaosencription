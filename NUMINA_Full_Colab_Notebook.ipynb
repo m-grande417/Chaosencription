{
 "cells": [
  {
   "metadata": {
    "trusted": false
   },
   "id": "a9a4fd36",
   "cell_type": "code",
   "source": "# 🤖 NUMINA: Symbolic Fusion AI (Juno Mobile Interface)\n\nWelcome to the mobile version of NUMINA — an AI that:\n- Fuses symbolic concepts (like fire + water)\n- Generates emergent meaning (symbolic name)\n- Remembers past fusions\n- Can reverse-deconstruct meaning\n- Models trust from different agents\n\n---\n\n### ✅ How to Use (Juno App Instructions)\n\n1. 🔽 Select **Concept A** and **Concept B**\n2. 🧠 Choose an **Agent** identity (trust levels vary)\n3. 🔁 Tap **Fuse Concepts**\n4. 🧠 NUMINA will:\n   - Output a **new symbolic name**\n   - Try to **reverse deconstruct** meaning\n   - Show **past memory matches**\n\nYou can re-run with different agents or concept pairs to explore emergent patterns.\n\n---",
   "execution_count": 4,
   "outputs": [
    {
     "output_type": "error",
     "ename": "SyntaxError",
     "evalue": "invalid character '—' (U+2014) (<ipython-input-4-9e90c67587fe>, line 3)",
     "traceback": [
      "\u001b[0;36m  File \u001b[0;32m\"<ipython-input-4-9e90c67587fe>\"\u001b[0;36m, line \u001b[0;32m3\u001b[0m\n\u001b[0;31m    Welcome to the mobile version of NUMINA — an AI that:\u001b[0m\n\u001b[0m                                            ^\u001b[0m\n\u001b[0;31mSyntaxError\u001b[0m\u001b[0;31m:\u001b[0m invalid character '—' (U+2014)\n"
     ]
    }
   ]
  },
  {
   "metadata": {},
   "id": "1257a130",
   "cell_type": "markdown",
   "source": "# 🧠 NUMINA: Symbolic AI Society\nConcept-first AI for structure, fusion, emergence, and memory."
  },
  {
   "metadata": {
    "trusted": false
   },
   "id": "72de6f80",
   "cell_type": "code",
   "source": "# 🧠 NUMINA: Symbolic AI Society\nConcept-first AI for structure, fusion, emergence, and memory.\n\n\nimport torch\nimport torch.nn.functional as F\nfrom torch.nn import Linear\nfrom torch_geometric.data import Data\nimport random\n\ndef create_xor_graph(a, b):\n    x = torch.tensor([[a], [b], [0.0]], dtype=torch.float)\n    edge_index = torch.tensor([[0, 2], [1, 2]], dtype=torch.long).t().contiguous()\n    label = torch.tensor([a ^ b], dtype=torch.float)\n    return Data(x=x, edge_index=edge_index), label\n\nclass LogicPatternLearner(torch.nn.Module):\n    def __init__(self):\n        super().__init__()\n        self.fc1 = Linear(1, 4)\n        self.fc2 = Linear(4, 1)\n\n    def forward(self, data):\n        x = F.relu(self.fc1(data.x))\n        out = torch.sigmoid(self.fc2(x)).mean()\n        return out\n",
   "execution_count": null,
   "outputs": []
  },
  {
   "metadata": {
    "trusted": false
   },
   "id": "3d7ee2af",
   "cell_type": "code",
   "source": "",
   "execution_count": null,
   "outputs": []
  },
  {
   "metadata": {
    "trusted": false
   },
   "id": "972c6fc9",
   "cell_type": "code",
   "source": "",
   "execution_count": null,
   "outputs": []
  },
  {
   "metadata": {
    "trusted": false
   },
   "id": "e600beec",
   "cell_type": "code",
   "source": "\nsymbol_map = {\n    0: [\"cold\", \"off\", \"false\"],\n    1: [\"hot\", \"on\", \"true\"]\n}\n\nvocab = list(set(sum(symbol_map.values(), [])))\nword2idx = {w: i for i, w in enumerate(vocab)}\nidx2word = {i: w for w, i in word2idx.items()}\n\ndef symbol_to_tensor(word):\n    vec = torch.zeros(len(vocab))\n    vec[word2idx[word]] = 1.0\n    return vec\n",
   "execution_count": null,
   "outputs": []
  },
  {
   "metadata": {
    "trusted": false
   },
   "id": "edd3931a",
   "cell_type": "code",
   "source": "\nclass SymbolDeceptionDetector(torch.nn.Module):\n    def __init__(self, vocab_size):\n        super().__init__()\n        self.gnn = LogicPatternLearner()\n        self.combine = Linear(1 + vocab_size, 1)\n\n    def forward(self, data, sym_tensor):\n        logic_output = self.gnn(data)\n        combined = torch.cat([logic_output, sym_tensor], dim=-1)\n        return torch.sigmoid(self.combine(combined))\n",
   "execution_count": null,
   "outputs": []
  },
  {
   "metadata": {
    "trusted": false
   },
   "id": "a0c0e53a",
   "cell_type": "code",
   "source": "\nclass SpeakerAgent(torch.nn.Module):\n    def __init__(self, word_len=4, vocab_size=12):\n        super().__init__()\n        self.embed = Linear(1, 16)\n        self.out = Linear(16, word_len * vocab_size)\n        self.word_len = word_len\n        self.vocab_size = vocab_size\n\n    def forward(self, concept):\n        x = F.relu(self.embed(concept))\n        return torch.softmax(self.out(x).view(-1, self.word_len, self.vocab_size), dim=-1)\n\nclass ListenerAgent(torch.nn.Module):\n    def __init__(self, word_len=4, vocab_size=12):\n        super().__init__()\n        self.decode = Linear(word_len * vocab_size, 1)\n\n    def forward(self, word_probs):\n        return torch.sigmoid(self.decode(word_probs.view(-1)))\n",
   "execution_count": null,
   "outputs": []
  },
  {
   "metadata": {
    "trusted": false
   },
   "id": "14786b45",
   "cell_type": "code",
   "source": "",
   "execution_count": null,
   "outputs": []
  },
  {
   "metadata": {
    "trusted": false
   },
   "id": "b501fcac",
   "cell_type": "code",
   "source": "welcome-data/assets\n",
   "execution_count": null,
   "outputs": []
  },
  {
   "metadata": {
    "trusted": false
   },
   "id": "745a0e4b",
   "cell_type": "code",
   "source": "\nagent_reputation = {\"A\": 0.9, \"B\": 0.6, \"C\": 0.2}\n\ndef interpret_statement(agent_id, symbol_tensor, listener_model):\n    trust = agent_reputation[agent_id]\n    prediction = listener_model(symbol_tensor)\n    weighted_output = trust * prediction\n    return weighted_output\n",
   "execution_count": null,
   "outputs": []
  },
  {
   "metadata": {
    "trusted": true
   },
   "id": "9708c77c",
   "cell_type": "code",
   "source": "# 🤖 NUMINA: Symbolic Fusion AI (Juno Mobile Interface)\n\nWelcome to the mobile version of NUMINA — an AI that:\n- Fuses symbolic concepts (like fire + water)\n- Generates emergent meaning (symbolic name)\n- Remembers past fusions\n- Can reverse-deconstruct meaning\n- Models trust from different agents\n\n---\n\n### ✅ How to Use (Juno App Instructions)\n\n1. 🔽 Select **Concept A** and **Concept B**\n2. 🧠 Choose an **Agent** identity (trust levels vary)\n3. 🔁 Tap **Fuse Concepts**\n4. 🧠 NUMINA will:\n   - Output a **new symbolic name**\n   - Try to **reverse deconstruct** meaning\n   - Show **past memory matches**\n\nYou can re-run with different agents or concept pairs to explore emergent patterns.\n\n---\nconcepts = {\n    \"fire\": torch.tensor([1.0, 0.0]),\n    \"water\": torch.tensor([0.0, 1.0]),\n    \"earth\": torch.tensor([0.5, 0.5])\n}\n\ndef decohere(a, b):\n    return torch.tanh((a + b)**2)\n\nalphabet = list(\"abcdefghijklmnopqrstuvwxyz\")\nchar2idx = {c: i for i, c in enumerate(alphabet)}\nidx2char = {i: c for c, i in char2idx.items()}\nvocab_size = len(alphabet)\n\ndef word_to_idx(word, length=5):\n    idxs = [char2idx[c] for c in word[:length]]\n    while len(idxs) < length:\n        idxs.append(0)\n    return idxs\n\ndef decode_symbol(tensor):\n    return ''.join([idx2char[torch.argmax(c).item()] for c in tensor])\n\n\n\nclass NUMINAMemory:\n    def __init__(self):\n        self.memory = []  # list of (concept_A, concept_B, fused, symbol)\n\n    def store(self, concept_A, concept_B, fused, symbol_tensor):\n        self.memory.append((concept_A, concept_B, fused, symbol_tensor))\n\n    def recall(self, fused_query, top_k=1):\n        if not self.memory:\n            return None\n        similarities = []\n        for concept_A, concept_B, fused, symbol_tensor in self.memory:\n            sim = F.cosine_similarity(fused_query, fused, dim=0)\n            similarities.append((sim.item(), symbol_tensor, concept_A, concept_B))\n        similarities.sort(reverse=True, key=lambda x: x[0])\n        return similarities[:top_k]\n",
   "execution_count": 1,
   "outputs": [
    {
     "output_type": "error",
     "ename": "SyntaxError",
     "evalue": "invalid character '—' (U+2014) (<ipython-input-1-0208b0bf1990>, line 3)",
     "traceback": [
      "\u001b[0;36m  File \u001b[0;32m\"<ipython-input-1-0208b0bf1990>\"\u001b[0;36m, line \u001b[0;32m3\u001b[0m\n\u001b[0;31m    Welcome to the mobile version of NUMINA — an AI that:\u001b[0m\n\u001b[0m                                            ^\u001b[0m\n\u001b[0;31mSyntaxError\u001b[0m\u001b[0;31m:\u001b[0m invalid character '—' (U+2014)\n"
     ]
    }
   ]
  },
  {
   "metadata": {
    "trusted": true
   },
   "cell_type": "code",
   "source": "",
   "execution_count": null,
   "outputs": []
  }
 ],
 "metadata": {
  "kernelspec": {
   "name": "python3",
   "display_name": "Python 3",
   "language": "python"
  },
  "language_info": {
   "name": "python",
   "version": "3.10.4",
   "mimetype": "text/x-python",
   "codemirror_mode": {
    "name": "ipython",
    "version": 3
   },
   "pygments_lexer": "ipython3",
   "nbconvert_exporter": "python",
   "file_extension": ".py"
  }
 },
 "nbformat": 4,
 "nbformat_minor": 5
}